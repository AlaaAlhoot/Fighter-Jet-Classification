{
  "cells": [
    {
      "cell_type": "markdown",
      "metadata": {
        "id": "SMiX4aKdg3dG"
      },
      "source": [
        "\n",
        "# **Install Libraries and Setup Kaggle Dataset**"
      ]
    },
    {
      "cell_type": "markdown",
      "metadata": {
        "id": "wzDChScbhbjn"
      },
      "source": [
        "**Description:**\n",
        " we will import everything needed for the project, including:\n",
        "* General libraries\n",
        "* Image and data processing\n",
        "* Tensorflow + Keras\n",
        "* Kaggle + Files handling\n",
        "* Visualization (matplotlib)\n",
        "\n",
        "We will set up Kaggle so that we can download the dataset directly from Kaggle and extract it.\n"
      ]
    },
    {
      "cell_type": "code",
      "execution_count": 2,
      "metadata": {
        "colab": {
          "base_uri": "https://localhost:8080/"
        },
        "collapsed": true,
        "id": "JXXq8b7CfhDo",
        "outputId": "0ae80e07-2991-4c08-aea3-aeae65dc19c4"
      },
      "outputs": [
        {
          "name": "stdout",
          "output_type": "stream",
          "text": [
            "Requirement already satisfied: tensorflow in /usr/local/lib/python3.11/dist-packages (2.18.0)\n",
            "Requirement already satisfied: absl-py>=1.0.0 in /usr/local/lib/python3.11/dist-packages (from tensorflow) (1.4.0)\n",
            "Requirement already satisfied: astunparse>=1.6.0 in /usr/local/lib/python3.11/dist-packages (from tensorflow) (1.6.3)\n",
            "Requirement already satisfied: flatbuffers>=24.3.25 in /usr/local/lib/python3.11/dist-packages (from tensorflow) (25.2.10)\n",
            "Requirement already satisfied: gast!=0.5.0,!=0.5.1,!=0.5.2,>=0.2.1 in /usr/local/lib/python3.11/dist-packages (from tensorflow) (0.6.0)\n",
            "Requirement already satisfied: google-pasta>=0.1.1 in /usr/local/lib/python3.11/dist-packages (from tensorflow) (0.2.0)\n",
            "Requirement already satisfied: libclang>=13.0.0 in /usr/local/lib/python3.11/dist-packages (from tensorflow) (18.1.1)\n",
            "Requirement already satisfied: opt-einsum>=2.3.2 in /usr/local/lib/python3.11/dist-packages (from tensorflow) (3.4.0)\n",
            "Requirement already satisfied: packaging in /usr/local/lib/python3.11/dist-packages (from tensorflow) (24.2)\n",
            "Requirement already satisfied: protobuf!=4.21.0,!=4.21.1,!=4.21.2,!=4.21.3,!=4.21.4,!=4.21.5,<6.0.0dev,>=3.20.3 in /usr/local/lib/python3.11/dist-packages (from tensorflow) (5.29.4)\n",
            "Requirement already satisfied: requests<3,>=2.21.0 in /usr/local/lib/python3.11/dist-packages (from tensorflow) (2.32.3)\n",
            "Requirement already satisfied: setuptools in /usr/local/lib/python3.11/dist-packages (from tensorflow) (75.2.0)\n",
            "Requirement already satisfied: six>=1.12.0 in /usr/local/lib/python3.11/dist-packages (from tensorflow) (1.17.0)\n",
            "Requirement already satisfied: termcolor>=1.1.0 in /usr/local/lib/python3.11/dist-packages (from tensorflow) (3.1.0)\n",
            "Requirement already satisfied: typing-extensions>=3.6.6 in /usr/local/lib/python3.11/dist-packages (from tensorflow) (4.13.2)\n",
            "Requirement already satisfied: wrapt>=1.11.0 in /usr/local/lib/python3.11/dist-packages (from tensorflow) (1.17.2)\n",
            "Requirement already satisfied: grpcio<2.0,>=1.24.3 in /usr/local/lib/python3.11/dist-packages (from tensorflow) (1.71.0)\n",
            "Requirement already satisfied: tensorboard<2.19,>=2.18 in /usr/local/lib/python3.11/dist-packages (from tensorflow) (2.18.0)\n",
            "Requirement already satisfied: keras>=3.5.0 in /usr/local/lib/python3.11/dist-packages (from tensorflow) (3.8.0)\n",
            "Requirement already satisfied: numpy<2.1.0,>=1.26.0 in /usr/local/lib/python3.11/dist-packages (from tensorflow) (2.0.2)\n",
            "Requirement already satisfied: h5py>=3.11.0 in /usr/local/lib/python3.11/dist-packages (from tensorflow) (3.13.0)\n",
            "Requirement already satisfied: ml-dtypes<0.5.0,>=0.4.0 in /usr/local/lib/python3.11/dist-packages (from tensorflow) (0.4.1)\n",
            "Requirement already satisfied: tensorflow-io-gcs-filesystem>=0.23.1 in /usr/local/lib/python3.11/dist-packages (from tensorflow) (0.37.1)\n",
            "Requirement already satisfied: wheel<1.0,>=0.23.0 in /usr/local/lib/python3.11/dist-packages (from astunparse>=1.6.0->tensorflow) (0.45.1)\n",
            "Requirement already satisfied: rich in /usr/local/lib/python3.11/dist-packages (from keras>=3.5.0->tensorflow) (13.9.4)\n",
            "Requirement already satisfied: namex in /usr/local/lib/python3.11/dist-packages (from keras>=3.5.0->tensorflow) (0.0.9)\n",
            "Requirement already satisfied: optree in /usr/local/lib/python3.11/dist-packages (from keras>=3.5.0->tensorflow) (0.15.0)\n",
            "Requirement already satisfied: charset-normalizer<4,>=2 in /usr/local/lib/python3.11/dist-packages (from requests<3,>=2.21.0->tensorflow) (3.4.1)\n",
            "Requirement already satisfied: idna<4,>=2.5 in /usr/local/lib/python3.11/dist-packages (from requests<3,>=2.21.0->tensorflow) (3.10)\n",
            "Requirement already satisfied: urllib3<3,>=1.21.1 in /usr/local/lib/python3.11/dist-packages (from requests<3,>=2.21.0->tensorflow) (2.4.0)\n",
            "Requirement already satisfied: certifi>=2017.4.17 in /usr/local/lib/python3.11/dist-packages (from requests<3,>=2.21.0->tensorflow) (2025.4.26)\n",
            "Requirement already satisfied: markdown>=2.6.8 in /usr/local/lib/python3.11/dist-packages (from tensorboard<2.19,>=2.18->tensorflow) (3.8)\n",
            "Requirement already satisfied: tensorboard-data-server<0.8.0,>=0.7.0 in /usr/local/lib/python3.11/dist-packages (from tensorboard<2.19,>=2.18->tensorflow) (0.7.2)\n",
            "Requirement already satisfied: werkzeug>=1.0.1 in /usr/local/lib/python3.11/dist-packages (from tensorboard<2.19,>=2.18->tensorflow) (3.1.3)\n",
            "Requirement already satisfied: MarkupSafe>=2.1.1 in /usr/local/lib/python3.11/dist-packages (from werkzeug>=1.0.1->tensorboard<2.19,>=2.18->tensorflow) (3.0.2)\n",
            "Requirement already satisfied: markdown-it-py>=2.2.0 in /usr/local/lib/python3.11/dist-packages (from rich->keras>=3.5.0->tensorflow) (3.0.0)\n",
            "Requirement already satisfied: pygments<3.0.0,>=2.13.0 in /usr/local/lib/python3.11/dist-packages (from rich->keras>=3.5.0->tensorflow) (2.19.1)\n",
            "Requirement already satisfied: mdurl~=0.1 in /usr/local/lib/python3.11/dist-packages (from markdown-it-py>=2.2.0->rich->keras>=3.5.0->tensorflow) (0.1.2)\n"
          ]
        }
      ],
      "source": [
        "# Install necessary libraries\n",
        "!pip install -q kaggle\n",
        "!pip install tensorflow\n",
        "\n",
        "# System and file handling\n",
        "import os\n",
        "import shutil\n",
        "import json\n",
        "\n",
        "# Data processing\n",
        "import numpy as np\n",
        "import pandas as pd\n",
        "\n",
        "# Image handling\n",
        "import matplotlib.pyplot as plt\n",
        "from PIL import Image\n",
        "\n",
        "# TensorFlow and Keras\n",
        "import tensorflow as tf\n",
        "from tensorflow.keras.models import Sequential, load_model\n",
        "from tensorflow.keras.layers import (Conv2D, MaxPooling2D, Dense, Flatten,\n",
        "                                     Dropout, GlobalAveragePooling2D, BatchNormalization)\n",
        "from tensorflow.keras.applications import MobileNetV2\n",
        "from tensorflow.keras.preprocessing.image import ImageDataGenerator, load_img, img_to_array\n",
        "from tensorflow.keras.optimizers import Adam\n",
        "from tensorflow.keras.callbacks import EarlyStopping, ReduceLROnPlateau, ModelCheckpoint\n",
        "\n",
        "# Google Colab specific tools\n",
        "from google.colab import files\n"
      ]
    },
    {
      "cell_type": "code",
      "execution_count": 3,
      "metadata": {
        "colab": {
          "base_uri": "https://localhost:8080/"
        },
        "id": "hHQOlacJqw_A",
        "outputId": "d2f28e77-50f2-410e-dc80-45481da864c6"
      },
      "outputs": [
        {
          "name": "stdout",
          "output_type": "stream",
          "text": [
            "No GPU detected. Training will be slow. Enable GPU from Runtime → Change runtime type.\n",
            "Mixed Precision Enabled → Models will train faster and use less memory.\n",
            "TensorFlow version: 2.18.0\n",
            "Available GPUs: []\n"
          ]
        }
      ],
      "source": [
        "from tensorflow.keras import mixed_precision\n",
        "# Check if GPU is available\n",
        "device_name = tf.test.gpu_device_name()\n",
        "if device_name:\n",
        "    print(f\"GPU detected and ready: {device_name}\")\n",
        "else:\n",
        "    print(\"No GPU detected. Training will be slow. Enable GPU from Runtime → Change runtime type.\")\n",
        "\n",
        "# Enable Mixed Precision\n",
        "mixed_precision.set_global_policy(\"mixed_float16\")\n",
        "print(\"Mixed Precision Enabled → Models will train faster and use less memory.\")\n",
        "\n",
        "# Check TensorFlow version and GPU info\n",
        "print(\"TensorFlow version:\", tf.__version__)\n",
        "print(\"Available GPUs:\", tf.config.list_physical_devices('GPU'))\n"
      ]
    },
    {
      "cell_type": "markdown",
      "metadata": {
        "id": "WkGezbWQjj-w"
      },
      "source": [
        "#  **Setup Kaggle Dataset**"
      ]
    },
    {
      "cell_type": "markdown",
      "metadata": {
        "id": "JuL4HgrXjoUF"
      },
      "source": [
        "**Description:**\n",
        "* Upload kaggle.json\n",
        "* Setup permissions\n",
        "* Download dataset using Kaggle API\n",
        "* Extract dataset to folder aircraft_data"
      ]
    },
    {
      "cell_type": "code",
      "execution_count": 8,
      "metadata": {
        "colab": {
          "base_uri": "https://localhost:8080/",
          "height": 146
        },
        "id": "yhA50Wnhj2kj",
        "outputId": "bdd38a12-90ae-4fdb-fe91-d3f53c197ba7"
      },
      "outputs": [
        {
          "data": {
            "text/html": [
              "\n",
              "     <input type=\"file\" id=\"files-821d744c-bc29-4bb1-8a21-51712cae05e3\" name=\"files[]\" multiple disabled\n",
              "        style=\"border:none\" />\n",
              "     <output id=\"result-821d744c-bc29-4bb1-8a21-51712cae05e3\">\n",
              "      Upload widget is only available when the cell has been executed in the\n",
              "      current browser session. Please rerun this cell to enable.\n",
              "      </output>\n",
              "      <script>// Copyright 2017 Google LLC\n",
              "//\n",
              "// Licensed under the Apache License, Version 2.0 (the \"License\");\n",
              "// you may not use this file except in compliance with the License.\n",
              "// You may obtain a copy of the License at\n",
              "//\n",
              "//      http://www.apache.org/licenses/LICENSE-2.0\n",
              "//\n",
              "// Unless required by applicable law or agreed to in writing, software\n",
              "// distributed under the License is distributed on an \"AS IS\" BASIS,\n",
              "// WITHOUT WARRANTIES OR CONDITIONS OF ANY KIND, either express or implied.\n",
              "// See the License for the specific language governing permissions and\n",
              "// limitations under the License.\n",
              "\n",
              "/**\n",
              " * @fileoverview Helpers for google.colab Python module.\n",
              " */\n",
              "(function(scope) {\n",
              "function span(text, styleAttributes = {}) {\n",
              "  const element = document.createElement('span');\n",
              "  element.textContent = text;\n",
              "  for (const key of Object.keys(styleAttributes)) {\n",
              "    element.style[key] = styleAttributes[key];\n",
              "  }\n",
              "  return element;\n",
              "}\n",
              "\n",
              "// Max number of bytes which will be uploaded at a time.\n",
              "const MAX_PAYLOAD_SIZE = 100 * 1024;\n",
              "\n",
              "function _uploadFiles(inputId, outputId) {\n",
              "  const steps = uploadFilesStep(inputId, outputId);\n",
              "  const outputElement = document.getElementById(outputId);\n",
              "  // Cache steps on the outputElement to make it available for the next call\n",
              "  // to uploadFilesContinue from Python.\n",
              "  outputElement.steps = steps;\n",
              "\n",
              "  return _uploadFilesContinue(outputId);\n",
              "}\n",
              "\n",
              "// This is roughly an async generator (not supported in the browser yet),\n",
              "// where there are multiple asynchronous steps and the Python side is going\n",
              "// to poll for completion of each step.\n",
              "// This uses a Promise to block the python side on completion of each step,\n",
              "// then passes the result of the previous step as the input to the next step.\n",
              "function _uploadFilesContinue(outputId) {\n",
              "  const outputElement = document.getElementById(outputId);\n",
              "  const steps = outputElement.steps;\n",
              "\n",
              "  const next = steps.next(outputElement.lastPromiseValue);\n",
              "  return Promise.resolve(next.value.promise).then((value) => {\n",
              "    // Cache the last promise value to make it available to the next\n",
              "    // step of the generator.\n",
              "    outputElement.lastPromiseValue = value;\n",
              "    return next.value.response;\n",
              "  });\n",
              "}\n",
              "\n",
              "/**\n",
              " * Generator function which is called between each async step of the upload\n",
              " * process.\n",
              " * @param {string} inputId Element ID of the input file picker element.\n",
              " * @param {string} outputId Element ID of the output display.\n",
              " * @return {!Iterable<!Object>} Iterable of next steps.\n",
              " */\n",
              "function* uploadFilesStep(inputId, outputId) {\n",
              "  const inputElement = document.getElementById(inputId);\n",
              "  inputElement.disabled = false;\n",
              "\n",
              "  const outputElement = document.getElementById(outputId);\n",
              "  outputElement.innerHTML = '';\n",
              "\n",
              "  const pickedPromise = new Promise((resolve) => {\n",
              "    inputElement.addEventListener('change', (e) => {\n",
              "      resolve(e.target.files);\n",
              "    });\n",
              "  });\n",
              "\n",
              "  const cancel = document.createElement('button');\n",
              "  inputElement.parentElement.appendChild(cancel);\n",
              "  cancel.textContent = 'Cancel upload';\n",
              "  const cancelPromise = new Promise((resolve) => {\n",
              "    cancel.onclick = () => {\n",
              "      resolve(null);\n",
              "    };\n",
              "  });\n",
              "\n",
              "  // Wait for the user to pick the files.\n",
              "  const files = yield {\n",
              "    promise: Promise.race([pickedPromise, cancelPromise]),\n",
              "    response: {\n",
              "      action: 'starting',\n",
              "    }\n",
              "  };\n",
              "\n",
              "  cancel.remove();\n",
              "\n",
              "  // Disable the input element since further picks are not allowed.\n",
              "  inputElement.disabled = true;\n",
              "\n",
              "  if (!files) {\n",
              "    return {\n",
              "      response: {\n",
              "        action: 'complete',\n",
              "      }\n",
              "    };\n",
              "  }\n",
              "\n",
              "  for (const file of files) {\n",
              "    const li = document.createElement('li');\n",
              "    li.append(span(file.name, {fontWeight: 'bold'}));\n",
              "    li.append(span(\n",
              "        `(${file.type || 'n/a'}) - ${file.size} bytes, ` +\n",
              "        `last modified: ${\n",
              "            file.lastModifiedDate ? file.lastModifiedDate.toLocaleDateString() :\n",
              "                                    'n/a'} - `));\n",
              "    const percent = span('0% done');\n",
              "    li.appendChild(percent);\n",
              "\n",
              "    outputElement.appendChild(li);\n",
              "\n",
              "    const fileDataPromise = new Promise((resolve) => {\n",
              "      const reader = new FileReader();\n",
              "      reader.onload = (e) => {\n",
              "        resolve(e.target.result);\n",
              "      };\n",
              "      reader.readAsArrayBuffer(file);\n",
              "    });\n",
              "    // Wait for the data to be ready.\n",
              "    let fileData = yield {\n",
              "      promise: fileDataPromise,\n",
              "      response: {\n",
              "        action: 'continue',\n",
              "      }\n",
              "    };\n",
              "\n",
              "    // Use a chunked sending to avoid message size limits. See b/62115660.\n",
              "    let position = 0;\n",
              "    do {\n",
              "      const length = Math.min(fileData.byteLength - position, MAX_PAYLOAD_SIZE);\n",
              "      const chunk = new Uint8Array(fileData, position, length);\n",
              "      position += length;\n",
              "\n",
              "      const base64 = btoa(String.fromCharCode.apply(null, chunk));\n",
              "      yield {\n",
              "        response: {\n",
              "          action: 'append',\n",
              "          file: file.name,\n",
              "          data: base64,\n",
              "        },\n",
              "      };\n",
              "\n",
              "      let percentDone = fileData.byteLength === 0 ?\n",
              "          100 :\n",
              "          Math.round((position / fileData.byteLength) * 100);\n",
              "      percent.textContent = `${percentDone}% done`;\n",
              "\n",
              "    } while (position < fileData.byteLength);\n",
              "  }\n",
              "\n",
              "  // All done.\n",
              "  yield {\n",
              "    response: {\n",
              "      action: 'complete',\n",
              "    }\n",
              "  };\n",
              "}\n",
              "\n",
              "scope.google = scope.google || {};\n",
              "scope.google.colab = scope.google.colab || {};\n",
              "scope.google.colab._files = {\n",
              "  _uploadFiles,\n",
              "  _uploadFilesContinue,\n",
              "};\n",
              "})(self);\n",
              "</script> "
            ],
            "text/plain": [
              "<IPython.core.display.HTML object>"
            ]
          },
          "metadata": {},
          "output_type": "display_data"
        },
        {
          "name": "stdout",
          "output_type": "stream",
          "text": [
            "Saving kaggle.json to kaggle.json\n",
            " Kaggle API configured.\n",
            "Dataset URL: https://www.kaggle.com/datasets/seryouxblaster764/fgvc-aircraft\n",
            "License(s): other\n",
            "Dataset downloaded and extracted.\n"
          ]
        }
      ],
      "source": [
        "# Upload kaggle.json (API)\n",
        "uploaded = files.upload()\n",
        "\n",
        "# Setup Kaggle config folder\n",
        "os.makedirs(\"/root/.kaggle\", exist_ok=True)\n",
        "\n",
        "# Move json and set permissions\n",
        "for filename in uploaded.keys():\n",
        "    os.rename(filename, \"/root/.kaggle/kaggle.json\")\n",
        "os.chmod(\"/root/.kaggle/kaggle.json\", 600)\n",
        "\n",
        "print(\" Kaggle API configured.\")\n",
        "\n",
        "# Download the aircraft dataset\n",
        "!kaggle datasets download -d seryouxblaster764/fgvc-aircraft\n",
        "\n",
        "# Extract downloaded zip\n",
        "!unzip -q fgvc-aircraft.zip -d aircraft_data\n",
        "\n",
        "print(\"Dataset downloaded and extracted.\")\n"
      ]
    },
    {
      "cell_type": "markdown",
      "metadata": {
        "id": "kCC_b_Yck1nA"
      },
      "source": [
        "# **Define Dataset Paths**"
      ]
    },
    {
      "cell_type": "markdown",
      "metadata": {
        "id": "4fpOtDI4k-MM"
      },
      "source": [
        "**Description:**\n",
        " I have adjusted the paths in this section to make it easier to access files while working on training and code."
      ]
    },
    {
      "cell_type": "code",
      "execution_count": 9,
      "metadata": {
        "colab": {
          "base_uri": "https://localhost:8080/"
        },
        "id": "SRHyUU9Xk7Wm",
        "outputId": "88346aa4-78df-466e-b6c4-e13a68ea6bd6"
      },
      "outputs": [
        {
          "name": "stdout",
          "output_type": "stream",
          "text": [
            "All Paths defined:\n",
            "Images Path: /content/aircraft_data/fgvc-aircraft-2013b/fgvc-aircraft-2013b/data/images\n",
            "Train/Val TXT Path: /content/aircraft_data/fgvc-aircraft-2013b/fgvc-aircraft-2013b/data/images_variant_trainval.txt\n",
            "Test TXT Path: /content/aircraft_data/fgvc-aircraft-2013b/fgvc-aircraft-2013b/data/images_variant_test.txt\n",
            "Classified Path: /content/aircraft_data/fgvc-aircraft-2013b/fgvc-aircraft-2013b/data/classified_images\n"
          ]
        }
      ],
      "source": [
        "# Define base path after extraction\n",
        "base_path = \"/content/aircraft_data/fgvc-aircraft-2013b/fgvc-aircraft-2013b/data\"\n",
        "# Define important paths\n",
        "images_path = os.path.join(base_path, \"images\")\n",
        "trainval_txt = os.path.join(base_path, \"images_variant_trainval.txt\")\n",
        "test_txt = os.path.join(base_path, \"images_variant_test.txt\")\n",
        "classified_path = os.path.join(base_path, \"classified_images\")\n",
        "# Create classified path if doesn't exist\n",
        "os.makedirs(classified_path, exist_ok=True)\n",
        "print(\"All Paths defined:\")\n",
        "print(\"Images Path:\", images_path)\n",
        "print(\"Train/Val TXT Path:\", trainval_txt)\n",
        "print(\"Test TXT Path:\", test_txt)\n",
        "print(\"Classified Path:\", classified_path)"
      ]
    },
    {
      "cell_type": "markdown",
      "metadata": {
        "id": "vfTsm4x6mf0i"
      },
      "source": [
        "# **Organize Dataset Images**"
      ]
    },
    {
      "cell_type": "markdown",
      "metadata": {
        "id": "uVpKU4ZymjEU"
      },
      "source": [
        "**Description:**\n",
        "\n",
        "* Move all images from the images folder to `classified_images`, organizing them into the correct class folders (aircraft type).\n",
        "*  Remove empty folders to clean up the dataset.\n",
        "*  Count the number of **classes (folders)** and **images**, ensuring the dataset structure is valid.\n",
        "*  Print a **warning** if any class folder has no images.\n",
        "*  Display the total number of classes and images.\n",
        "\n",
        "\n",
        "\n",
        "**This makes dataset ready for training and clean.**"
      ]
    },
    {
      "cell_type": "code",
      "execution_count": 10,
      "metadata": {
        "colab": {
          "base_uri": "https://localhost:8080/"
        },
        "id": "2azBOTd1mxTc",
        "outputId": "e7b22826-977f-42f6-b025-a6e06a4b1c4f"
      },
      "outputs": [
        {
          "name": "stdout",
          "output_type": "stream",
          "text": [
            " Images organized into class folders.\n",
            " Inner folders cleaned and images kept with original names.\n",
            " Empty folders removed. Dataset is clean.\n",
            "---------------------------------\n",
            " Total classes: 100\n",
            " Total images: 10000\n",
            "---------------------------------\n"
          ]
        }
      ],
      "source": [
        "# Organize images into class folders\n",
        "def organize_images(txt_file):\n",
        "    with open(txt_file, 'r') as file:\n",
        "        for line in file:\n",
        "            image_id, variant = line.strip().split(\" \", 1)\n",
        "            img_filename = f\"{image_id}.jpg\"\n",
        "            variant_folder = os.path.join(classified_path, variant)\n",
        "            os.makedirs(variant_folder, exist_ok=True)\n",
        "\n",
        "            src = os.path.join(images_path, img_filename)\n",
        "            dst = os.path.join(variant_folder, img_filename)\n",
        "\n",
        "            if os.path.exists(src):\n",
        "                shutil.move(src, dst)\n",
        "\n",
        "# Process trainval and test images\n",
        "organize_images(trainval_txt)\n",
        "organize_images(test_txt)\n",
        "print(\" Images organized into class folders.\")\n",
        "\n",
        "# Clean inner subfolders and move images WITHOUT renaming\n",
        "for class_folder in os.listdir(classified_path):\n",
        "    class_path = os.path.join(classified_path, class_folder)\n",
        "\n",
        "    if os.path.isdir(class_path):\n",
        "        for subfolder in os.listdir(class_path):\n",
        "            subfolder_path = os.path.join(class_path, subfolder)\n",
        "\n",
        "            if os.path.isdir(subfolder_path):\n",
        "                for img in os.listdir(subfolder_path):\n",
        "                    src_img_path = os.path.join(subfolder_path, img)\n",
        "                    dst_img_path = os.path.join(class_path, img)  # Keep original name\n",
        "                    shutil.move(src_img_path, dst_img_path)\n",
        "\n",
        "                # Remove empty subfolder after moving images\n",
        "                os.rmdir(subfolder_path)\n",
        "\n",
        "print(\" Inner folders cleaned and images kept with original names.\")\n",
        "\n",
        "# Remove empty folders\n",
        "for root, dirs, files in os.walk(classified_path, topdown=False):\n",
        "    if not os.listdir(root):\n",
        "        os.rmdir(root)\n",
        "\n",
        "print(\" Empty folders removed. Dataset is clean.\")\n",
        "\n",
        "# Count total classes and images\n",
        "total_classes = sum(1 for folder in os.listdir(classified_path) if os.path.isdir(os.path.join(classified_path, folder)))\n",
        "total_images = sum(len([f for f in os.listdir(os.path.join(classified_path, folder)) if f.endswith(\".jpg\")]) for folder in os.listdir(classified_path) if os.path.isdir(os.path.join(classified_path, folder)))\n",
        "\n",
        "print(\"---------------------------------\")\n",
        "print(f\" Total classes: {total_classes}\")\n",
        "print(f\" Total images: {total_images}\")\n",
        "print(\"---------------------------------\")\n"
      ]
    },
    {
      "cell_type": "markdown",
      "metadata": {
        "id": "qMZZHDLoOfws"
      },
      "source": [
        "# **Prepare Data Generators and Augmentation**"
      ]
    },
    {
      "cell_type": "markdown",
      "metadata": {
        "id": "pmbfX4oSO_kG"
      },
      "source": [
        "**Description:**\n",
        "\n",
        "* Prepared the data for training using ImageDataGenerator.\n",
        "* Implemented optimizations such as rotation, zoom, pan, horizontal flip, brightness adjustment, and color channel changes to improve model accuracy.\n",
        "* Split the data so that 80% was for training and 20% for validation to ensure model balance.\n",
        "* Used a batch size of 32 to achieve a good balance between accuracy and training speed.\n",
        "* Created data generators (train_generator and val_generator) to facilitate automatic image loading from classification folders.\n",
        "* Organized the data and prepared it to improve model performance during training.\n"
      ]
    },
    {
      "cell_type": "code",
      "execution_count": null,
      "metadata": {
        "colab": {
          "base_uri": "https://localhost:8080/"
        },
        "id": "Ea2EfyPsPObD",
        "outputId": "4872e723-5811-4fb5-fe9a-2b0b9b98bf09"
      },
      "outputs": [
        {
          "name": "stdout",
          "output_type": "stream",
          "text": [
            "Found 8000 images belonging to 100 classes.\n",
            "Found 2000 images belonging to 100 classes.\n",
            " Data generators are ready.\n",
            "Total Training Samples: 8000\n",
            "Total Validation Samples: 2000\n",
            "Total Classes: 100\n"
          ]
        }
      ],
      "source": [
        "\n",
        "\n",
        "# Set batch size\n",
        "BATCH_SIZE = 64\n",
        "\n",
        "# Create ImageDataGenerator for training with augmentation\n",
        "train_datagen = ImageDataGenerator(\n",
        "    rescale=1./255,              # Normalize images\n",
        "    validation_split=0.2,        # Reserve 20% for validation\n",
        "    rotation_range=20,           # Randomly rotate images by up to 20 degrees\n",
        "    width_shift_range=0.1,       # Shift images horizontally\n",
        "    height_shift_range=0.1,      # Shift images vertically\n",
        "    shear_range=0.1,             # Apply shearing transformations\n",
        "    zoom_range=0.2,              # Random zoom\n",
        "    horizontal_flip=True,        # Flip images horizontally\n",
        "    brightness_range=[0.8, 1.2]  # Random brightness\n",
        ")\n",
        "\n",
        "# Create ImageDataGenerator for validation )\n",
        "val_datagen = ImageDataGenerator(\n",
        "    rescale=1./255,\n",
        "    validation_split=0.2\n",
        ")\n",
        "\n",
        "# Training generator\n",
        "train_generator = train_datagen.flow_from_directory(\n",
        "    classified_path,             # Path to classified images\n",
        "    target_size=(224, 224),      # Resize images to 224x224\n",
        "    batch_size=BATCH_SIZE,\n",
        "    class_mode='categorical',    # For multi-class classification\n",
        "    subset='training',\n",
        "    shuffle=True\n",
        ")\n",
        "\n",
        "# Validation generator\n",
        "val_generator = val_datagen.flow_from_directory(\n",
        "    classified_path,\n",
        "    target_size=(224, 224),\n",
        "    batch_size=BATCH_SIZE,\n",
        "    class_mode='categorical',\n",
        "    subset='validation',\n",
        "    shuffle=False\n",
        ")\n",
        "\n",
        "# Print info\n",
        "print(\" Data generators are ready.\")\n",
        "print(\"Total Training Samples:\", train_generator.samples)\n",
        "print(\"Total Validation Samples:\", val_generator.samples)\n",
        "print(\"Total Classes:\", train_generator.num_classes)\n"
      ]
    },
    {
      "cell_type": "markdown",
      "metadata": {
        "id": "7WD8KOS3WcnU"
      },
      "source": [
        "# **CNN Model**"
      ]
    },
    {
      "cell_type": "markdown",
      "metadata": {
        "id": "pvgueknyWgw8"
      },
      "source": [
        "**Build the CNN Model**"
      ]
    },
    {
      "cell_type": "markdown",
      "metadata": {
        "id": "gT-P9BzjYpZ2"
      },
      "source": [
        "**Description:**\n",
        "* I created a CNN model for aircraft classification.\n",
        "* I used convolutional layers (Conv2D) to extract features.\n",
        "* I applied MaxPooling to reduce data size while preserving detail.\n",
        "* I added batch normalization to improve training stability.\n",
        "* I flattened the data to prepare it for dense layers.\n",
        "* I used Dense + Dropout to prevent overfitting and improve performance.\n",
        "* I finished the model with a Softmax layer to classify images into the correct classes.\n",
        "* I used Adam with a low learning rate to achieve higher accuracy.\n"
      ]
    },
    {
      "cell_type": "code",
      "execution_count": 12,
      "metadata": {
        "colab": {
          "base_uri": "https://localhost:8080/"
        },
        "id": "gTcTWwZjZnjN",
        "outputId": "7a4c2d26-fcc8-4e3b-abb5-077c5cc8592a"
      },
      "outputs": [
        {
          "name": "stderr",
          "output_type": "stream",
          "text": [
            "/usr/local/lib/python3.11/dist-packages/keras/src/layers/convolutional/base_conv.py:107: UserWarning: Do not pass an `input_shape`/`input_dim` argument to a layer. When using Sequential models, prefer using an `Input(shape)` object as the first layer in the model instead.\n",
            "  super().__init__(activity_regularizer=activity_regularizer, **kwargs)\n"
          ]
        }
      ],
      "source": [
        "\n",
        "\n",
        "# Build the CNN Model\n",
        "cnn_model = Sequential()\n",
        "\n",
        "# First Convolutional Block\n",
        "cnn_model.add(Conv2D(32, (3, 3), activation='relu', input_shape=(224, 224, 3)))\n",
        "cnn_model.add(BatchNormalization())\n",
        "cnn_model.add(MaxPooling2D(2, 2))\n",
        "\n",
        "# Second Convolutional Block\n",
        "cnn_model.add(Conv2D(64, (3, 3), activation='relu'))\n",
        "cnn_model.add(BatchNormalization())\n",
        "cnn_model.add(MaxPooling2D(2, 2))\n",
        "\n",
        "# Third Convolutional Block\n",
        "cnn_model.add(Conv2D(128, (3, 3), activation='relu'))\n",
        "cnn_model.add(BatchNormalization())\n",
        "cnn_model.add(MaxPooling2D(2, 2))\n",
        "\n",
        "# Fully Connected Layers\n",
        "cnn_model.add(Flatten())\n",
        "cnn_model.add(Dense(256, activation='relu'))\n",
        "cnn_model.add(Dropout(0.5))\n",
        "cnn_model.add(Dense(train_generator.num_classes, activation='softmax'))  # Output layer\n"
      ]
    },
    {
      "cell_type": "markdown",
      "metadata": {
        "id": "W4MCbstRaLcT"
      },
      "source": [
        " Train the CNN Model"
      ]
    },
    {
      "cell_type": "markdown",
      "metadata": {
        "id": "yCrpZcHtaNVp"
      },
      "source": [
        "**Description:**\n",
        "* I set up early stopping to prevent overtraining if performance doesn't improve within 5 runs.\n",
        "* I automatically saved the best version of the model using ModelCheckpoint.\n",
        "* I specified 30 training runs, but the model may stop early when performance stabilizes.\n",
        "* I used cross-validation to ensure the model was trained on new data.\n",
        "* The result: efficient training and a more accurate model without wasting resources."
      ]
    },
    {
      "cell_type": "code",
      "execution_count": 13,
      "metadata": {
        "colab": {
          "base_uri": "https://localhost:8080/"
        },
        "id": "flVc0h6QaYXd",
        "outputId": "ed9bff9a-9507-46c8-de3c-0a0a2d0f9972"
      },
      "outputs": [
        {
          "name": "stderr",
          "output_type": "stream",
          "text": [
            "/usr/local/lib/python3.11/dist-packages/keras/src/trainers/data_adapters/py_dataset_adapter.py:121: UserWarning: Your `PyDataset` class should call `super().__init__(**kwargs)` in its constructor. `**kwargs` can include `workers`, `use_multiprocessing`, `max_queue_size`. Do not pass these arguments to `fit()`, as they will be ignored.\n",
            "  self._warn_if_super_not_called()\n"
          ]
        },
        {
          "name": "stdout",
          "output_type": "stream",
          "text": [
            "Epoch 1/30\n",
            "\u001b[1m125/125\u001b[0m \u001b[32m━━━━━━━━━━━━━━━━━━━━\u001b[0m\u001b[37m\u001b[0m \u001b[1m229s\u001b[0m 2s/step - accuracy: 0.0094 - loss: 11.5304 - val_accuracy: 0.0095 - val_loss: 15.1821 - learning_rate: 5.0000e-04\n",
            "Epoch 2/30\n",
            "\u001b[1m125/125\u001b[0m \u001b[32m━━━━━━━━━━━━━━━━━━━━\u001b[0m\u001b[37m\u001b[0m \u001b[1m216s\u001b[0m 1s/step - accuracy: 0.0100 - loss: 4.6972 - val_accuracy: 0.0095 - val_loss: 15.6497 - learning_rate: 5.0000e-04\n",
            "Epoch 3/30\n",
            "\u001b[1m125/125\u001b[0m \u001b[32m━━━━━━━━━━━━━━━━━━━━\u001b[0m\u001b[37m\u001b[0m \u001b[1m179s\u001b[0m 1s/step - accuracy: 0.0098 - loss: 4.6336 - val_accuracy: 0.0100 - val_loss: 5.6273 - learning_rate: 5.0000e-04\n",
            "Epoch 4/30\n",
            "\u001b[1m125/125\u001b[0m \u001b[32m━━━━━━━━━━━━━━━━━━━━\u001b[0m\u001b[37m\u001b[0m \u001b[1m205s\u001b[0m 1s/step - accuracy: 0.0104 - loss: 4.6335 - val_accuracy: 0.0110 - val_loss: 4.6611 - learning_rate: 5.0000e-04\n",
            "Epoch 5/30\n",
            "\u001b[1m125/125\u001b[0m \u001b[32m━━━━━━━━━━━━━━━━━━━━\u001b[0m\u001b[37m\u001b[0m \u001b[1m198s\u001b[0m 1s/step - accuracy: 0.0095 - loss: 4.6132 - val_accuracy: 0.0085 - val_loss: 4.6643 - learning_rate: 5.0000e-04\n",
            "Epoch 6/30\n",
            "\u001b[1m125/125\u001b[0m \u001b[32m━━━━━━━━━━━━━━━━━━━━\u001b[0m\u001b[37m\u001b[0m \u001b[1m190s\u001b[0m 2s/step - accuracy: 0.0082 - loss: 4.6162 - val_accuracy: 0.0100 - val_loss: 4.6277 - learning_rate: 5.0000e-04\n",
            "Epoch 7/30\n",
            "\u001b[1m125/125\u001b[0m \u001b[32m━━━━━━━━━━━━━━━━━━━━\u001b[0m\u001b[37m\u001b[0m \u001b[1m180s\u001b[0m 1s/step - accuracy: 0.0122 - loss: 4.6176 - val_accuracy: 0.0125 - val_loss: 4.6477 - learning_rate: 5.0000e-04\n",
            "Epoch 8/30\n",
            "\u001b[1m125/125\u001b[0m \u001b[32m━━━━━━━━━━━━━━━━━━━━\u001b[0m\u001b[37m\u001b[0m \u001b[1m188s\u001b[0m 2s/step - accuracy: 0.0092 - loss: 4.6198 - val_accuracy: 0.0100 - val_loss: 4.6190 - learning_rate: 5.0000e-04\n",
            "Epoch 9/30\n",
            "\u001b[1m125/125\u001b[0m \u001b[32m━━━━━━━━━━━━━━━━━━━━\u001b[0m\u001b[37m\u001b[0m \u001b[1m180s\u001b[0m 1s/step - accuracy: 0.0096 - loss: 4.6169 - val_accuracy: 0.0100 - val_loss: 4.6667 - learning_rate: 5.0000e-04\n",
            "Epoch 10/30\n",
            "\u001b[1m125/125\u001b[0m \u001b[32m━━━━━━━━━━━━━━━━━━━━\u001b[0m\u001b[37m\u001b[0m \u001b[1m186s\u001b[0m 1s/step - accuracy: 0.0112 - loss: 4.6161 - val_accuracy: 0.0105 - val_loss: 4.6106 - learning_rate: 5.0000e-04\n",
            "Epoch 11/30\n",
            "\u001b[1m125/125\u001b[0m \u001b[32m━━━━━━━━━━━━━━━━━━━━\u001b[0m\u001b[37m\u001b[0m \u001b[1m181s\u001b[0m 1s/step - accuracy: 0.0072 - loss: 4.6074 - val_accuracy: 0.0105 - val_loss: 4.6152 - learning_rate: 5.0000e-04\n",
            "Epoch 12/30\n",
            "\u001b[1m125/125\u001b[0m \u001b[32m━━━━━━━━━━━━━━━━━━━━\u001b[0m\u001b[37m\u001b[0m \u001b[1m179s\u001b[0m 1s/step - accuracy: 0.0107 - loss: 4.6248 - val_accuracy: 0.0100 - val_loss: 4.6336 - learning_rate: 5.0000e-04\n",
            "Epoch 13/30\n",
            "\u001b[1m125/125\u001b[0m \u001b[32m━━━━━━━━━━━━━━━━━━━━\u001b[0m\u001b[37m\u001b[0m \u001b[1m180s\u001b[0m 1s/step - accuracy: 0.0114 - loss: 4.6186 - val_accuracy: 0.0100 - val_loss: 4.6116 - learning_rate: 5.0000e-04\n",
            "Epoch 14/30\n",
            "\u001b[1m125/125\u001b[0m \u001b[32m━━━━━━━━━━━━━━━━━━━━\u001b[0m\u001b[37m\u001b[0m \u001b[1m178s\u001b[0m 1s/step - accuracy: 0.0087 - loss: 4.6055 - val_accuracy: 0.0100 - val_loss: 4.6161 - learning_rate: 2.5000e-04\n",
            "Epoch 15/30\n",
            "\u001b[1m125/125\u001b[0m \u001b[32m━━━━━━━━━━━━━━━━━━━━\u001b[0m\u001b[37m\u001b[0m \u001b[1m178s\u001b[0m 1s/step - accuracy: 0.0076 - loss: 4.6067 - val_accuracy: 0.0100 - val_loss: 4.6176 - learning_rate: 2.5000e-04\n",
            " CNN Training Completed!\n"
          ]
        }
      ],
      "source": [
        "\n",
        "\n",
        "# Compile the CNN model\n",
        "cnn_model.compile(\n",
        "    optimizer=Adam(learning_rate=0.0005),\n",
        "    loss='categorical_crossentropy',\n",
        "    metrics=['accuracy']\n",
        ")\n",
        "\n",
        "# Callbacks\n",
        "callbacks = [\n",
        "    EarlyStopping(monitor='val_loss', patience=5, restore_best_weights=True),\n",
        "    ReduceLROnPlateau(monitor='val_loss', factor=0.5, patience=3),\n",
        "    ModelCheckpoint('cnn_fighter_jet_model.keras', save_best_only=True)  # Save best model\n",
        "]\n",
        "\n",
        "# Train the model\n",
        "history_cnn = cnn_model.fit(\n",
        "    train_generator,\n",
        "    epochs=30,\n",
        "    validation_data=val_generator,\n",
        "    callbacks=callbacks\n",
        ")\n",
        "\n",
        "print(\" CNN Training Completed!\")\n"
      ]
    },
    {
      "cell_type": "markdown",
      "metadata": {
        "id": "m9Eplh_2tZ6b"
      },
      "source": [
        "**Evaluate the final model on validation data**"
      ]
    },
    {
      "cell_type": "markdown",
      "metadata": {
        "id": "ERpslPgItY7c"
      },
      "source": [
        "**Description:**\n",
        "This code evaluates the model's performance using validation data, calculating accuracy and loss to determine how well the prediction is performed. The results are clearly displayed as an accuracy percentage and a numerical loss value."
      ]
    },
    {
      "cell_type": "code",
      "execution_count": null,
      "metadata": {
        "colab": {
          "base_uri": "https://localhost:8080/",
          "height": 384
        },
        "id": "aYOY5fcm4s3i",
        "outputId": "ef658a33-b8b6-4bf0-afc6-a198fb21cc92"
      },
      "outputs": [],
      "source": [
        "\n",
        "\n",
        "# Load the best saved model\n",
        "cnn_model = load_model('cnn_fighter_jet_model.keras')\n",
        "\n",
        "# Evaluate on validation data\n",
        "loss, accuracy = cnn_model.evaluate(val_generator)\n",
        "print(\" CNN Validation Accuracy: {:.2f}%\".format(accuracy * 100))\n",
        "print(\" CNN Validation Loss:\", loss)\n"
      ]
    },
    {
      "cell_type": "markdown",
      "metadata": {
        "id": "GbhAKOZ_6CKc"
      },
      "source": [
        "**Predict External Image**"
      ]
    },
    {
      "cell_type": "markdown",
      "metadata": {
        "id": "flI3k-FDNh1Z"
      },
      "source": [
        "Description:\n",
        "This code uploads an image from the device using `files.upload()`, then processes it and converts it into an array suitable for a convolutional neural network (CNN) model. The image is resized, transformed into numerical data, and normalized so its values range between 0 and 1. The processed image is then passed to the model to predict its category. The predicted class is retrieved from a predefined list of trained labels, and finally, the image is displayed with the predicted label using `Matplotlib`."
      ]
    },
    {
      "cell_type": "code",
      "execution_count": 16,
      "metadata": {
        "colab": {
          "base_uri": "https://localhost:8080/",
          "height": 553
        },
        "id": "7CJjv2m66DAa",
        "outputId": "7c50bfeb-c6f5-4857-9908-e5baaa612b4c"
      },
      "outputs": [
        {
          "data": {
            "text/html": [
              "\n",
              "     <input type=\"file\" id=\"files-3f66c144-65a8-4ae5-8aaf-3ebd50f57112\" name=\"files[]\" multiple disabled\n",
              "        style=\"border:none\" />\n",
              "     <output id=\"result-3f66c144-65a8-4ae5-8aaf-3ebd50f57112\">\n",
              "      Upload widget is only available when the cell has been executed in the\n",
              "      current browser session. Please rerun this cell to enable.\n",
              "      </output>\n",
              "      <script>// Copyright 2017 Google LLC\n",
              "//\n",
              "// Licensed under the Apache License, Version 2.0 (the \"License\");\n",
              "// you may not use this file except in compliance with the License.\n",
              "// You may obtain a copy of the License at\n",
              "//\n",
              "//      http://www.apache.org/licenses/LICENSE-2.0\n",
              "//\n",
              "// Unless required by applicable law or agreed to in writing, software\n",
              "// distributed under the License is distributed on an \"AS IS\" BASIS,\n",
              "// WITHOUT WARRANTIES OR CONDITIONS OF ANY KIND, either express or implied.\n",
              "// See the License for the specific language governing permissions and\n",
              "// limitations under the License.\n",
              "\n",
              "/**\n",
              " * @fileoverview Helpers for google.colab Python module.\n",
              " */\n",
              "(function(scope) {\n",
              "function span(text, styleAttributes = {}) {\n",
              "  const element = document.createElement('span');\n",
              "  element.textContent = text;\n",
              "  for (const key of Object.keys(styleAttributes)) {\n",
              "    element.style[key] = styleAttributes[key];\n",
              "  }\n",
              "  return element;\n",
              "}\n",
              "\n",
              "// Max number of bytes which will be uploaded at a time.\n",
              "const MAX_PAYLOAD_SIZE = 100 * 1024;\n",
              "\n",
              "function _uploadFiles(inputId, outputId) {\n",
              "  const steps = uploadFilesStep(inputId, outputId);\n",
              "  const outputElement = document.getElementById(outputId);\n",
              "  // Cache steps on the outputElement to make it available for the next call\n",
              "  // to uploadFilesContinue from Python.\n",
              "  outputElement.steps = steps;\n",
              "\n",
              "  return _uploadFilesContinue(outputId);\n",
              "}\n",
              "\n",
              "// This is roughly an async generator (not supported in the browser yet),\n",
              "// where there are multiple asynchronous steps and the Python side is going\n",
              "// to poll for completion of each step.\n",
              "// This uses a Promise to block the python side on completion of each step,\n",
              "// then passes the result of the previous step as the input to the next step.\n",
              "function _uploadFilesContinue(outputId) {\n",
              "  const outputElement = document.getElementById(outputId);\n",
              "  const steps = outputElement.steps;\n",
              "\n",
              "  const next = steps.next(outputElement.lastPromiseValue);\n",
              "  return Promise.resolve(next.value.promise).then((value) => {\n",
              "    // Cache the last promise value to make it available to the next\n",
              "    // step of the generator.\n",
              "    outputElement.lastPromiseValue = value;\n",
              "    return next.value.response;\n",
              "  });\n",
              "}\n",
              "\n",
              "/**\n",
              " * Generator function which is called between each async step of the upload\n",
              " * process.\n",
              " * @param {string} inputId Element ID of the input file picker element.\n",
              " * @param {string} outputId Element ID of the output display.\n",
              " * @return {!Iterable<!Object>} Iterable of next steps.\n",
              " */\n",
              "function* uploadFilesStep(inputId, outputId) {\n",
              "  const inputElement = document.getElementById(inputId);\n",
              "  inputElement.disabled = false;\n",
              "\n",
              "  const outputElement = document.getElementById(outputId);\n",
              "  outputElement.innerHTML = '';\n",
              "\n",
              "  const pickedPromise = new Promise((resolve) => {\n",
              "    inputElement.addEventListener('change', (e) => {\n",
              "      resolve(e.target.files);\n",
              "    });\n",
              "  });\n",
              "\n",
              "  const cancel = document.createElement('button');\n",
              "  inputElement.parentElement.appendChild(cancel);\n",
              "  cancel.textContent = 'Cancel upload';\n",
              "  const cancelPromise = new Promise((resolve) => {\n",
              "    cancel.onclick = () => {\n",
              "      resolve(null);\n",
              "    };\n",
              "  });\n",
              "\n",
              "  // Wait for the user to pick the files.\n",
              "  const files = yield {\n",
              "    promise: Promise.race([pickedPromise, cancelPromise]),\n",
              "    response: {\n",
              "      action: 'starting',\n",
              "    }\n",
              "  };\n",
              "\n",
              "  cancel.remove();\n",
              "\n",
              "  // Disable the input element since further picks are not allowed.\n",
              "  inputElement.disabled = true;\n",
              "\n",
              "  if (!files) {\n",
              "    return {\n",
              "      response: {\n",
              "        action: 'complete',\n",
              "      }\n",
              "    };\n",
              "  }\n",
              "\n",
              "  for (const file of files) {\n",
              "    const li = document.createElement('li');\n",
              "    li.append(span(file.name, {fontWeight: 'bold'}));\n",
              "    li.append(span(\n",
              "        `(${file.type || 'n/a'}) - ${file.size} bytes, ` +\n",
              "        `last modified: ${\n",
              "            file.lastModifiedDate ? file.lastModifiedDate.toLocaleDateString() :\n",
              "                                    'n/a'} - `));\n",
              "    const percent = span('0% done');\n",
              "    li.appendChild(percent);\n",
              "\n",
              "    outputElement.appendChild(li);\n",
              "\n",
              "    const fileDataPromise = new Promise((resolve) => {\n",
              "      const reader = new FileReader();\n",
              "      reader.onload = (e) => {\n",
              "        resolve(e.target.result);\n",
              "      };\n",
              "      reader.readAsArrayBuffer(file);\n",
              "    });\n",
              "    // Wait for the data to be ready.\n",
              "    let fileData = yield {\n",
              "      promise: fileDataPromise,\n",
              "      response: {\n",
              "        action: 'continue',\n",
              "      }\n",
              "    };\n",
              "\n",
              "    // Use a chunked sending to avoid message size limits. See b/62115660.\n",
              "    let position = 0;\n",
              "    do {\n",
              "      const length = Math.min(fileData.byteLength - position, MAX_PAYLOAD_SIZE);\n",
              "      const chunk = new Uint8Array(fileData, position, length);\n",
              "      position += length;\n",
              "\n",
              "      const base64 = btoa(String.fromCharCode.apply(null, chunk));\n",
              "      yield {\n",
              "        response: {\n",
              "          action: 'append',\n",
              "          file: file.name,\n",
              "          data: base64,\n",
              "        },\n",
              "      };\n",
              "\n",
              "      let percentDone = fileData.byteLength === 0 ?\n",
              "          100 :\n",
              "          Math.round((position / fileData.byteLength) * 100);\n",
              "      percent.textContent = `${percentDone}% done`;\n",
              "\n",
              "    } while (position < fileData.byteLength);\n",
              "  }\n",
              "\n",
              "  // All done.\n",
              "  yield {\n",
              "    response: {\n",
              "      action: 'complete',\n",
              "    }\n",
              "  };\n",
              "}\n",
              "\n",
              "scope.google = scope.google || {};\n",
              "scope.google.colab = scope.google.colab || {};\n",
              "scope.google.colab._files = {\n",
              "  _uploadFiles,\n",
              "  _uploadFilesContinue,\n",
              "};\n",
              "})(self);\n",
              "</script> "
            ],
            "text/plain": [
              "<IPython.core.display.HTML object>"
            ]
          },
          "metadata": {},
          "output_type": "display_data"
        },
        {
          "name": "stdout",
          "output_type": "stream",
          "text": [
            "Saving img_pic.jpeg to img_pic.jpeg\n",
            "\u001b[1m1/1\u001b[0m \u001b[32m━━━━━━━━━━━━━━━━━━━━\u001b[0m\u001b[37m\u001b[0m \u001b[1m1s\u001b[0m 1s/step\n",
            "Top 3 Predicted Aircraft Types:\n",
            "Tu-134 → 1.01%\n",
            "CRJ-200 → 1.01%\n",
            "BAE 146-200 → 1.01%\n"
          ]
        },
        {
          "data": {
            "image/png": "[encoded data removed]",
            "text/plain": [
              "<Figure size 640x480 with 1 Axes>"
            ]
          },
          "metadata": {},
          "output_type": "display_data"
        }
      ],
      "source": [
        "from tensorflow.keras.preprocessing import image\n",
        "from google.colab import files\n",
        "\n",
        "# Step 1: Upload image\n",
        "uploaded = files.upload()\n",
        "\n",
        "# Get the uploaded file path\n",
        "for fn in uploaded.keys():\n",
        "    external_image_path = fn\n",
        "\n",
        "\n",
        "# Load and preprocess image\n",
        "img = image.load_img(external_image_path, target_size=(224, 224))\n",
        "img_array = image.img_to_array(img)\n",
        "img_array = np.expand_dims(img_array, axis=0)\n",
        "img_array = img_array / 255.0\n",
        "\n",
        "# Predict using CNN Model\n",
        "predictions = cnn_model.predict(img_array)\n",
        "top_3_indices = predictions[0].argsort()[-3:][::-1]\n",
        "\n",
        "# Get class labels\n",
        "class_labels = dict((v, k) for k, v in train_generator.class_indices.items())\n",
        "\n",
        "# Show Top-3 predictions\n",
        "print(\"Top 3 Predicted Aircraft Types:\")\n",
        "for idx in top_3_indices:\n",
        "    print(f\"{class_labels[idx]} → {predictions[0][idx] * 100:.2f}%\")\n",
        "\n",
        "# Show the image\n",
        "plt.imshow(img)\n",
        "plt.axis(\"off\")\n",
        "plt.show()\n"
      ]
    },
    {
      "cell_type": "markdown",
      "metadata": {
        "id": "444lNbnKNTT7"
      },
      "source": [
        "**# MobileNetV2 Model **"
      ]
    },
    {
      "cell_type": "markdown",
      "metadata": {
        "id": "DFvJLkNZOW2q"
      },
      "source": [
        "**Build MobileNetV2 Model**"
      ]
    },
    {
      "cell_type": "markdown",
      "metadata": {
        "id": "iMt4jm3KOXv6"
      },
      "source": [
        "**Description:**\n",
        "In this code, I use **MobileNetV2** as a base model for feature extraction while keeping its pre-trained weights unchanged. I then apply **GlobalAveragePooling2D** to reduce the dimensionality of the extracted features, followed by a **Dense** layer with 256 neurons using **ReLU** activation to enhance learning. To prevent overfitting, I include a **Dropout (0.5)** layer. Finally, I add an output layer with **softmax** activation, ensuring the model can classify images into multiple categories. The model is compiled with the **Adam optimizer** and **categorical cross-entropy** as the"
      ]
    },
    {
      "cell_type": "code",
      "execution_count": 17,
      "metadata": {
        "colab": {
          "base_uri": "https://localhost:8080/",
          "height": 384
        },
        "id": "APGTNzfgOSsS",
        "outputId": "87ef1ea1-4cda-4fdb-85ba-d5f2892f869d"
      },
      "outputs": [
        {
          "name": "stdout",
          "output_type": "stream",
          "text": [
            "Downloading data from https://storage.googleapis.com/tensorflow/keras-applications/mobilenet_v2/mobilenet_v2_weights_tf_dim_ordering_tf_kernels_1.0_224_no_top.h5\n",
            "\u001b[1m9406464/9406464\u001b[0m \u001b[32m━━━━━━━━━━━━━━━━━━━━\u001b[0m\u001b[37m\u001b[0m \u001b[1m2s\u001b[0m 0us/step\n"
          ]
        },
        {
          "data": {
            "text/html": [
              "<pre style=\"white-space:pre;overflow-x:auto;line-height:normal;font-family:Menlo,'DejaVu Sans Mono',consolas,'Courier New',monospace\"><span style=\"font-weight: bold\">Model: \"sequential_1\"</span>\n",
              "</pre>\n"
            ],
            "text/plain": [
              "\u001b[1mModel: \"sequential_1\"\u001b[0m\n"
            ]
          },
          "metadata": {},
          "output_type": "display_data"
        },
        {
          "data": {
            "text/html": [
              "<pre style=\"white-space:pre;overflow-x:auto;line-height:normal;font-family:Menlo,'DejaVu Sans Mono',consolas,'Courier New',monospace\">┏━━━━━━━━━━━━━━━━━━━━━━━━━━━━━━━━━┳━━━━━━━━━━━━━━━━━━━━━━━━┳━━━━━━━━━━━━━━━┓\n",
              "┃<span style=\"font-weight: bold\"> Layer (type)                    </span>┃<span style=\"font-weight: bold\"> Output Shape           </span>┃<span style=\"font-weight: bold\">       Param # </span>┃\n",
              "┡━━━━━━━━━━━━━━━━━━━━━━━━━━━━━━━━━╇━━━━━━━━━━━━━━━━━━━━━━━━╇━━━━━━━━━━━━━━━┩\n",
              "│ mobilenetv2_1.00_224            │ (<span style=\"color: #00d7ff; text-decoration-color: #00d7ff\">None</span>, <span style=\"color: #00af00; text-decoration-color: #00af00\">7</span>, <span style=\"color: #00af00; text-decoration-color: #00af00\">7</span>, <span style=\"color: #00af00; text-decoration-color: #00af00\">1280</span>)     │     <span style=\"color: #00af00; text-decoration-color: #00af00\">2,257,984</span> │\n",
              "│ (<span style=\"color: #0087ff; text-decoration-color: #0087ff\">Functional</span>)                    │                        │               │\n",
              "├─────────────────────────────────┼────────────────────────┼───────────────┤\n",
              "│ global_average_pooling2d        │ (<span style=\"color: #00d7ff; text-decoration-color: #00d7ff\">None</span>, <span style=\"color: #00af00; text-decoration-color: #00af00\">1280</span>)           │             <span style=\"color: #00af00; text-decoration-color: #00af00\">0</span> │\n",
              "│ (<span style=\"color: #0087ff; text-decoration-color: #0087ff\">GlobalAveragePooling2D</span>)        │                        │               │\n",
              "├─────────────────────────────────┼────────────────────────┼───────────────┤\n",
              "│ dense_2 (<span style=\"color: #0087ff; text-decoration-color: #0087ff\">Dense</span>)                 │ (<span style=\"color: #00d7ff; text-decoration-color: #00d7ff\">None</span>, <span style=\"color: #00af00; text-decoration-color: #00af00\">256</span>)            │       <span style=\"color: #00af00; text-decoration-color: #00af00\">327,936</span> │\n",
              "├─────────────────────────────────┼────────────────────────┼───────────────┤\n",
              "│ dropout_1 (<span style=\"color: #0087ff; text-decoration-color: #0087ff\">Dropout</span>)             │ (<span style=\"color: #00d7ff; text-decoration-color: #00d7ff\">None</span>, <span style=\"color: #00af00; text-decoration-color: #00af00\">256</span>)            │             <span style=\"color: #00af00; text-decoration-color: #00af00\">0</span> │\n",
              "├─────────────────────────────────┼────────────────────────┼───────────────┤\n",
              "│ dense_3 (<span style=\"color: #0087ff; text-decoration-color: #0087ff\">Dense</span>)                 │ (<span style=\"color: #00d7ff; text-decoration-color: #00d7ff\">None</span>, <span style=\"color: #00af00; text-decoration-color: #00af00\">100</span>)            │        <span style=\"color: #00af00; text-decoration-color: #00af00\">25,700</span> │\n",
              "└─────────────────────────────────┴────────────────────────┴───────────────┘\n",
              "</pre>\n"
            ],
            "text/plain": [
              "┏━━━━━━━━━━━━━━━━━━━━━━━━━━━━━━━━━┳━━━━━━━━━━━━━━━━━━━━━━━━┳━━━━━━━━━━━━━━━┓\n",
              "┃\u001b[1m \u001b[0m\u001b[1mLayer (type)                   \u001b[0m\u001b[1m \u001b[0m┃\u001b[1m \u001b[0m\u001b[1mOutput Shape          \u001b[0m\u001b[1m \u001b[0m┃\u001b[1m \u001b[0m\u001b[1m      Param #\u001b[0m\u001b[1m \u001b[0m┃\n",
              "┡━━━━━━━━━━━━━━━━━━━━━━━━━━━━━━━━━╇━━━━━━━━━━━━━━━━━━━━━━━━╇━━━━━━━━━━━━━━━┩\n",
              "│ mobilenetv2_1.00_224            │ (\u001b[38;5;45mNone\u001b[0m, \u001b[38;5;34m7\u001b[0m, \u001b[38;5;34m7\u001b[0m, \u001b[38;5;34m1280\u001b[0m)     │     \u001b[38;5;34m2,257,984\u001b[0m │\n",
              "│ (\u001b[38;5;33mFunctional\u001b[0m)                    │                        │               │\n",
              "├─────────────────────────────────┼────────────────────────┼───────────────┤\n",
              "│ global_average_pooling2d        │ (\u001b[38;5;45mNone\u001b[0m, \u001b[38;5;34m1280\u001b[0m)           │             \u001b[38;5;34m0\u001b[0m │\n",
              "│ (\u001b[38;5;33mGlobalAveragePooling2D\u001b[0m)        │                        │               │\n",
              "├─────────────────────────────────┼────────────────────────┼───────────────┤\n",
              "│ dense_2 (\u001b[38;5;33mDense\u001b[0m)                 │ (\u001b[38;5;45mNone\u001b[0m, \u001b[38;5;34m256\u001b[0m)            │       \u001b[38;5;34m327,936\u001b[0m │\n",
              "├─────────────────────────────────┼────────────────────────┼───────────────┤\n",
              "│ dropout_1 (\u001b[38;5;33mDropout\u001b[0m)             │ (\u001b[38;5;45mNone\u001b[0m, \u001b[38;5;34m256\u001b[0m)            │             \u001b[38;5;34m0\u001b[0m │\n",
              "├─────────────────────────────────┼────────────────────────┼───────────────┤\n",
              "│ dense_3 (\u001b[38;5;33mDense\u001b[0m)                 │ (\u001b[38;5;45mNone\u001b[0m, \u001b[38;5;34m100\u001b[0m)            │        \u001b[38;5;34m25,700\u001b[0m │\n",
              "└─────────────────────────────────┴────────────────────────┴───────────────┘\n"
            ]
          },
          "metadata": {},
          "output_type": "display_data"
        },
        {
          "data": {
            "text/html": [
              "<pre style=\"white-space:pre;overflow-x:auto;line-height:normal;font-family:Menlo,'DejaVu Sans Mono',consolas,'Courier New',monospace\"><span style=\"font-weight: bold\"> Total params: </span><span style=\"color: #00af00; text-decoration-color: #00af00\">2,611,620</span> (9.96 MB)\n",
              "</pre>\n"
            ],
            "text/plain": [
              "\u001b[1m Total params: \u001b[0m\u001b[38;5;34m2,611,620\u001b[0m (9.96 MB)\n"
            ]
          },
          "metadata": {},
          "output_type": "display_data"
        },
        {
          "data": {
            "text/html": [
              "<pre style=\"white-space:pre;overflow-x:auto;line-height:normal;font-family:Menlo,'DejaVu Sans Mono',consolas,'Courier New',monospace\"><span style=\"font-weight: bold\"> Trainable params: </span><span style=\"color: #00af00; text-decoration-color: #00af00\">353,636</span> (1.35 MB)\n",
              "</pre>\n"
            ],
            "text/plain": [
              "\u001b[1m Trainable params: \u001b[0m\u001b[38;5;34m353,636\u001b[0m (1.35 MB)\n"
            ]
          },
          "metadata": {},
          "output_type": "display_data"
        },
        {
          "data": {
            "text/html": [
              "<pre style=\"white-space:pre;overflow-x:auto;line-height:normal;font-family:Menlo,'DejaVu Sans Mono',consolas,'Courier New',monospace\"><span style=\"font-weight: bold\"> Non-trainable params: </span><span style=\"color: #00af00; text-decoration-color: #00af00\">2,257,984</span> (8.61 MB)\n",
              "</pre>\n"
            ],
            "text/plain": [
              "\u001b[1m Non-trainable params: \u001b[0m\u001b[38;5;34m2,257,984\u001b[0m (8.61 MB)\n"
            ]
          },
          "metadata": {},
          "output_type": "display_data"
        }
      ],
      "source": [
        "\n",
        "# Get number of classes\n",
        "num_classes = train_generator.num_classes\n",
        "\n",
        "# Load MobileNetV2 base model (pretrained on ImageNet)\n",
        "base_model = MobileNetV2(input_shape=(224, 224, 3), include_top=False, weights=\"imagenet\")\n",
        "base_model.trainable = False  # Freeze the base model\n",
        "\n",
        "# Build the classification model\n",
        "mobilenet_model = Sequential([\n",
        "    base_model,\n",
        "    GlobalAveragePooling2D(),\n",
        "    Dense(256, activation='relu'),\n",
        "    Dropout(0.5),\n",
        "    Dense(num_classes, activation='softmax')  # Output layer\n",
        "])\n",
        "\n",
        "# Compile the model\n",
        "mobilenet_model.compile(\n",
        "    optimizer=Adam(learning_rate=0.0005),\n",
        "    loss='categorical_crossentropy',\n",
        "    metrics=['accuracy']\n",
        ")\n",
        "\n",
        "# Show model summary\n",
        "mobilenet_model.summary()\n"
      ]
    },
    {
      "cell_type": "markdown",
      "metadata": {
        "id": "re6kKZN2PPyq"
      },
      "source": [
        "**Prepare Callbacks for Training**"
      ]
    },
    {
      "cell_type": "markdown",
      "metadata": {
        "id": "qiLByZq6gKcf"
      },
      "source": [
        "\n",
        "\n",
        "**Description:** In this code, I define a **save path** for storing the best-trained MobileNetV2 model. Then, I set up **callbacks** to improve the training process. The `EarlyStopping` callback monitors **validation accuracy** and stops training if there’s no improvement for **5 consecutive epochs**, while restoring the best weights. The `ModelCheckpoint` callback ensures that only the best-performing model, based on validation accuracy, is saved at the specified path.\n",
        "\n",
        "\n"
      ]
    },
    {
      "cell_type": "code",
      "execution_count": 18,
      "metadata": {
        "id": "zVcCRhXFPOg6"
      },
      "outputs": [],
      "source": [
        "\n",
        "\n",
        "# Prepare callbacks\n",
        "callbacks = [\n",
        "    EarlyStopping(monitor='val_loss', patience=5, restore_best_weights=True),\n",
        "    ReduceLROnPlateau(monitor='val_loss', factor=0.5, patience=3),\n",
        "    ModelCheckpoint('mobilenetv2_fighter_jet_model.keras', save_best_only=True)  # Save best model\n",
        "]\n"
      ]
    },
    {
      "cell_type": "markdown",
      "metadata": {
        "id": "aAHoZNGUPhfy"
      },
      "source": [
        "**Train the Model**"
      ]
    },
    {
      "cell_type": "markdown",
      "metadata": {
        "id": "ZB-F9pougaY3"
      },
      "source": [
        "**Description:** In this code, I train the **MobileNetV2** model using the **fit()** function. The training data is provided via `train_generator`, and the model runs for **15 epochs** to learn patterns from the dataset. Validation data is supplied through `val_generator` to evaluate performance after each epoch. Additionally, I include **callbacks** to stop training early if needed and save the best model based on validation accuracy.\n",
        "\n",
        "\n"
      ]
    },
    {
      "cell_type": "code",
      "execution_count": null,
      "metadata": {
        "colab": {
          "base_uri": "https://localhost:8080/"
        },
        "id": "Gna65tyaPjn7",
        "outputId": "33f2887a-f4e5-406a-defc-ddd0e1a21f88"
      },
      "outputs": [
        {
          "name": "stdout",
          "output_type": "stream",
          "text": [
            "Epoch 1/20\n",
            "\u001b[1m125/125\u001b[0m \u001b[32m━━━━━━━━━━━━━━━━━━━━\u001b[0m\u001b[37m\u001b[0m \u001b[1m199s\u001b[0m 1s/step - accuracy: 0.0208 - loss: 4.6942 - val_accuracy: 0.0640 - val_loss: 4.2559 - learning_rate: 5.0000e-04\n",
            "Epoch 2/20\n",
            "\u001b[1m125/125\u001b[0m \u001b[32m━━━━━━━━━━━━━━━━━━━━\u001b[0m\u001b[37m\u001b[0m \u001b[1m177s\u001b[0m 1s/step - accuracy: 0.0662 - loss: 4.1829 - val_accuracy: 0.1255 - val_loss: 3.8715 - learning_rate: 5.0000e-04\n",
            "Epoch 3/20\n",
            "\u001b[1m125/125\u001b[0m \u001b[32m━━━━━━━━━━━━━━━━━━━━\u001b[0m\u001b[37m\u001b[0m \u001b[1m180s\u001b[0m 1s/step - accuracy: 0.1101 - loss: 3.8277 - val_accuracy: 0.1555 - val_loss: 3.6407 - learning_rate: 5.0000e-04\n",
            "Epoch 4/20\n",
            "\u001b[1m125/125\u001b[0m \u001b[32m━━━━━━━━━━━━━━━━━━━━\u001b[0m\u001b[37m\u001b[0m \u001b[1m180s\u001b[0m 1s/step - accuracy: 0.1525 - loss: 3.5335 - val_accuracy: 0.1825 - val_loss: 3.4314 - learning_rate: 5.0000e-04\n",
            "Epoch 5/20\n",
            "\u001b[1m125/125\u001b[0m \u001b[32m━━━━━━━━━━━━━━━━━━━━\u001b[0m\u001b[37m\u001b[0m \u001b[1m180s\u001b[0m 1s/step - accuracy: 0.1736 - loss: 3.3431 - val_accuracy: 0.1970 - val_loss: 3.3235 - learning_rate: 5.0000e-04\n",
            "Epoch 6/20\n",
            "\u001b[1m125/125\u001b[0m \u001b[32m━━━━━━━━━━━━━━━━━━━━\u001b[0m\u001b[37m\u001b[0m \u001b[1m180s\u001b[0m 1s/step - accuracy: 0.2036 - loss: 3.1611 - val_accuracy: 0.2155 - val_loss: 3.2065 - learning_rate: 5.0000e-04\n",
            "Epoch 7/20\n",
            "\u001b[1m125/125\u001b[0m \u001b[32m━━━━━━━━━━━━━━━━━━━━\u001b[0m\u001b[37m\u001b[0m \u001b[1m179s\u001b[0m 1s/step - accuracy: 0.2164 - loss: 3.0426 - val_accuracy: 0.2310 - val_loss: 3.1209 - learning_rate: 5.0000e-04\n",
            "Epoch 8/20\n",
            "\u001b[1m125/125\u001b[0m \u001b[32m━━━━━━━━━━━━━━━━━━━━\u001b[0m\u001b[37m\u001b[0m \u001b[1m186s\u001b[0m 1s/step - accuracy: 0.2450 - loss: 2.9333 - val_accuracy: 0.2385 - val_loss: 3.0556 - learning_rate: 5.0000e-04\n",
            "Epoch 9/20\n",
            "\u001b[1m125/125\u001b[0m \u001b[32m━━━━━━━━━━━━━━━━━━━━\u001b[0m\u001b[37m\u001b[0m \u001b[1m179s\u001b[0m 1s/step - accuracy: 0.2523 - loss: 2.8629 - val_accuracy: 0.2665 - val_loss: 2.9754 - learning_rate: 5.0000e-04\n",
            "Epoch 10/20\n",
            "\u001b[1m125/125\u001b[0m \u001b[32m━━━━━━━━━━━━━━━━━━━━\u001b[0m\u001b[37m\u001b[0m \u001b[1m178s\u001b[0m 1s/step - accuracy: 0.2737 - loss: 2.7614 - val_accuracy: 0.2560 - val_loss: 2.9445 - learning_rate: 5.0000e-04\n",
            "Epoch 11/20\n",
            "\u001b[1m125/125\u001b[0m \u001b[32m━━━━━━━━━━━━━━━━━━━━\u001b[0m\u001b[37m\u001b[0m \u001b[1m181s\u001b[0m 1s/step - accuracy: 0.2920 - loss: 2.6878 - val_accuracy: 0.2750 - val_loss: 2.8815 - learning_rate: 5.0000e-04\n",
            "Epoch 12/20\n",
            "\u001b[1m125/125\u001b[0m \u001b[32m━━━━━━━━━━━━━━━━━━━━\u001b[0m\u001b[37m\u001b[0m \u001b[1m180s\u001b[0m 1s/step - accuracy: 0.3087 - loss: 2.5864 - val_accuracy: 0.2755 - val_loss: 2.8756 - learning_rate: 5.0000e-04\n",
            "Epoch 13/20\n",
            "\u001b[1m125/125\u001b[0m \u001b[32m━━━━━━━━━━━━━━━━━━━━\u001b[0m\u001b[37m\u001b[0m \u001b[1m179s\u001b[0m 1s/step - accuracy: 0.3162 - loss: 2.5720 - val_accuracy: 0.2850 - val_loss: 2.7966 - learning_rate: 5.0000e-04\n",
            "Epoch 14/20\n",
            "\u001b[1m125/125\u001b[0m \u001b[32m━━━━━━━━━━━━━━━━━━━━\u001b[0m\u001b[37m\u001b[0m \u001b[1m178s\u001b[0m 1s/step - accuracy: 0.3342 - loss: 2.5227 - val_accuracy: 0.2790 - val_loss: 2.8118 - learning_rate: 5.0000e-04\n",
            "Epoch 15/20\n",
            "\u001b[1m125/125\u001b[0m \u001b[32m━━━━━━━━━━━━━━━━━━━━\u001b[0m\u001b[37m\u001b[0m \u001b[1m202s\u001b[0m 1s/step - accuracy: 0.3427 - loss: 2.4404 - val_accuracy: 0.2855 - val_loss: 2.7617 - learning_rate: 5.0000e-04\n",
            "Epoch 16/20\n",
            "\u001b[1m125/125\u001b[0m \u001b[32m━━━━━━━━━━━━━━━━━━━━\u001b[0m\u001b[37m\u001b[0m \u001b[1m178s\u001b[0m 1s/step - accuracy: 0.3503 - loss: 2.4100 - val_accuracy: 0.2935 - val_loss: 2.7447 - learning_rate: 5.0000e-04\n",
            "Epoch 17/20\n",
            "\u001b[1m 72/125\u001b[0m \u001b[32m━━━━━━━━━━━\u001b[0m\u001b[37m━━━━━━━━━\u001b[0m \u001b[1m1:09\u001b[0m 1s/step - accuracy: 0.3722 - loss: 2.3601"
          ]
        }
      ],
      "source": [
        "# Train the MobileNetV2 model\n",
        "history_mobilenet = mobilenet_model.fit(\n",
        "    train_generator,\n",
        "    epochs=20,\n",
        "    validation_data=val_generator,\n",
        "    callbacks=callbacks\n",
        ")\n",
        "\n",
        "print(\" MobileNetV2 Training Completed!\")\n"
      ]
    },
    {
      "cell_type": "markdown",
      "metadata": {
        "id": "iVA_0-mQQTBp"
      },
      "source": [
        "**Evaluate MobileNetV2 on Validation Data**"
      ]
    },
    {
      "cell_type": "markdown",
      "metadata": {
        "id": "HCEfDXWygkW2"
      },
      "source": [
        "**Description**: In this code, I **evaluate the trained MobileNetV2 model** using `val_generator`. The `evaluate()` function calculates the **validation loss and accuracy**, helping to measure the model’s performance on unseen data. Finally, I **print the results**, displaying the validation accuracy as a percentage and the validation loss rounded to four decimal places.\n",
        "\n"
      ]
    },
    {
      "cell_type": "code",
      "execution_count": null,
      "metadata": {
        "id": "rUF6YdIhQV4T"
      },
      "outputs": [],
      "source": [
        "\n",
        "# Load the best saved model\n",
        "mobilenet_model = load_model('mobilenetv2_fighter_jet_model.keras')\n",
        "\n",
        "# Evaluate on validation set\n",
        "loss, accuracy = mobilenet_model.evaluate(val_generator)\n",
        "print(\" MobileNetV2 Validation Accuracy: {:.2f}%\".format(accuracy * 100))\n",
        "print(\" MobileNetV2 Validation Loss:\", loss)\n"
      ]
    },
    {
      "cell_type": "markdown",
      "metadata": {
        "id": "np37sQ6rQb6M"
      },
      "source": [
        "**Save Mode**"
      ]
    },
    {
      "cell_type": "markdown",
      "metadata": {
        "id": "PErGbIfJg9Nm"
      },
      "source": [
        "**Description:** In this code, I **save the trained MobileNetV2 model** to disk using the `save()` function. The model is stored as `\"mobilenetv2_fighter_jet_model_final.keras\"`, allowing me to reload it later for inference or further training. Lastly, I **print a success message** to confirm that the model has been saved properly.\n"
      ]
    },
    {
      "cell_type": "code",
      "execution_count": null,
      "metadata": {
        "id": "BDYfePk_QgQy"
      },
      "outputs": [],
      "source": [
        "mobilenet_model.save(\"mobilenetv2_fighter_jet_model_final.keras\")\n",
        "print(\" MobileNetV2 Model Saved Manually (Optional).\")\n"
      ]
    },
    {
      "cell_type": "markdown",
      "metadata": {
        "id": "sEtG2NLMR56s"
      },
      "source": [
        "**Test Predict External Image + Show Top 3 Probabilities**"
      ]
    },
    {
      "cell_type": "markdown",
      "metadata": {
        "id": "L1a3JlskhF9_"
      },
      "source": [
        "**Description:** In this code, I **load the trained MobileNetV2 model** from disk to perform predictions on external images. First, I **upload an image**, retrieve its filename, and preprocess it by resizing, converting it into an array, expanding dimensions, and normalizing pixel values. Then, I **use the model to predict** the class of the image, obtaining an array of probabilities for each category.  \n",
        "\n",
        "To display results, I **map predictions to class labels**, extract the **top 3 predictions**, and print them with their confidence scores. Finally, I **visualize the uploaded image** using Matplotlib, displaying the top predicted aircraft class as the title.  \n",
        "\n"
      ]
    },
    {
      "cell_type": "code",
      "execution_count": null,
      "metadata": {
        "id": "YLSgrL5AR62Q"
      },
      "outputs": [],
      "source": [
        "\n",
        "\n",
        "# Path to external image\n",
        "external_image_path = \"/content/aircraft_data/test_image.jpg\"  # Change this path\n",
        "\n",
        "# Load and preprocess external image\n",
        "img = image.load_img(external_image_path, target_size=(224, 224))\n",
        "img_array = image.img_to_array(img)\n",
        "img_array = np.expand_dims(img_array, axis=0)\n",
        "img_array = img_array / 255.0\n",
        "\n",
        "# Predict using the model\n",
        "predictions = mobilenet_model.predict(img_array)\n",
        "top_3_indices = predictions[0].argsort()[-3:][::-1]\n",
        "\n",
        "# Get class labels\n",
        "class_labels = dict((v, k) for k, v in train_generator.class_indices.items())\n",
        "\n",
        "# Show Top-3 predictions\n",
        "print(\"Top 3 Predicted Aircraft Types:\")\n",
        "for idx in top_3_indices:\n",
        "    print(f\"{class_labels[idx]} → {predictions[0][idx] * 100:.2f}%\")\n",
        "\n",
        "# Show the image\n",
        "plt.imshow(img)\n",
        "plt.axis(\"off\")\n",
        "plt.show()\n"
      ]
    },
    {
      "cell_type": "markdown",
      "metadata": {
        "id": "dwpY5N5SkeUp"
      },
      "source": [
        "# **Fine-Tune MobileNetV2**"
      ]
    },
    {
      "cell_type": "markdown",
      "metadata": {
        "id": "S5Kd1-JIhKpG"
      },
      "source": [
        "**Unfreeze Model and Prepare for Fine-Tuning**"
      ]
    },
    {
      "cell_type": "markdown",
      "metadata": {
        "id": "kebIgrfhkjov"
      },
      "source": [
        "**Description:** Now, I am preparing the **MobileNetV2** model for fine-tuning. First, I load the previously trained model to build upon its existing knowledge. I set **trainable=True**, but only for the **deeper layers**, keeping the initial layers frozen to retain essential learned features. Finally, I **recompile** the model using a **lower learning rate**, ensuring that the training process refines the model without erasing its prior learning.\n",
        "\n"
      ]
    },
    {
      "cell_type": "code",
      "execution_count": null,
      "metadata": {
        "id": "wYtcSPF1ko-w"
      },
      "outputs": [],
      "source": [
        "\n",
        "# Load previously trained MobileNetV2 model\n",
        "finetune_model = load_model('mobilenetv2_fighter_jet_model.keras')\n",
        "\n",
        "# Unfreeze base model for fine-tuning\n",
        "finetune_model.layers[0].trainable = True  # Unfreeze the base MobileNetV2\n",
        "\n",
        "# Let's freeze first few layers to avoid overfitting and speed up\n",
        "for layer in finetune_model.layers[0].layers[:100]:   # freeze first 100 layers (optional tweakable number)\n",
        "    layer.trainable = False\n",
        "\n",
        "# Compile again with lower learning rate\n",
        "finetune_model.compile(\n",
        "    optimizer=Adam(learning_rate=0.00005),  # Lower LR for fine-tuning\n",
        "    loss='categorical_crossentropy',\n",
        "    metrics=['accuracy']\n",
        ")\n",
        "\n",
        "# Check trainable layers\n",
        "finetune_model.summary()\n"
      ]
    },
    {
      "cell_type": "markdown",
      "metadata": {
        "id": "5Fo_dB7ch3l1"
      },
      "source": [
        "**Train Fine-Tuned Model + Evaluate + Save Best Model**"
      ]
    },
    {
      "cell_type": "markdown",
      "metadata": {
        "id": "5bFNRCjdsrq7"
      },
      "source": [
        "**Description:**\n",
        "Now, I will train the model using three key techniques to enhance its performance. **EarlyStopping** will monitor progress and automatically stop training if there is no improvement, preventing unnecessary computation. **ReduceLROnPlateau** will lower the learning rate if the model gets stuck, helping it to continue learning more effectively. Finally, **ModelCheckpoint** will ensure that only the best fine-tuned model is saved, allowing me to use the most optimized version for future predictions.\n",
        "\n"
      ]
    },
    {
      "cell_type": "code",
      "execution_count": null,
      "metadata": {
        "id": "yYIxYqUdssR4"
      },
      "outputs": [],
      "source": [
        "from tensorflow.keras.callbacks import EarlyStopping, ReduceLROnPlateau, ModelCheckpoint\n",
        "\n",
        "# Prepare callbacks\n",
        "callbacks = [\n",
        "    EarlyStopping(monitor='val_loss', patience=5, restore_best_weights=True),\n",
        "    ReduceLROnPlateau(monitor='val_loss', factor=0.5, patience=3),\n",
        "    ModelCheckpoint('mobilenetv2_finetuned_model.keras', save_best_only=True)  # Save best version\n",
        "]\n",
        "\n",
        "# Train the fine-tuned model\n",
        "history_finetune = finetune_model.fit(\n",
        "    train_generator,\n",
        "    epochs=20,  # Fine-tuning usually needs fewer epochs\n",
        "    validation_data=val_generator,\n",
        "    callbacks=callbacks\n",
        ")\n",
        "\n",
        "print(\" Fine-tuning Completed!\")\n",
        "\n",
        "# Evaluate on validation data\n",
        "loss, accuracy = finetune_model.evaluate(val_generator)\n",
        "print(\" Fine-Tuned MobileNetV2 Validation Accuracy: {:.2f}%\".format(accuracy * 100))\n",
        "print(\" Fine-Tuned MobileNetV2 Validation Loss:\", loss)\n",
        "\n",
        "# Save the fine-tuned model (optional, already saved in checkpoint)\n",
        "finetune_model.save(\"mobilenetv2_finetuned_model_final.keras\")\n",
        "print(\" Fine-tuned model saved manually.\")"
      ]
    },
    {
      "cell_type": "markdown",
      "metadata": {
        "id": "u3eKgB4miMft"
      },
      "source": [
        "**Predict external image + Show Top-3 Predictions**"
      ]
    },
    {
      "cell_type": "markdown",
      "metadata": {
        "id": "ZxAFcnVniMNe"
      },
      "source": [
        "**Description: **\n",
        "After completing the training, I evaluate the model using **validation data** to assess its performance. If needed, I **save the model again** to ensure I have the optimized version stored. Finally, I **test an external image**, allowing the model to predict the **top 3 possible categories**, providing insights into its classification accuracy.\n"
      ]
    },
    {
      "cell_type": "code",
      "execution_count": null,
      "metadata": {
        "id": "Wh4NE5pbikBw"
      },
      "outputs": [],
      "source": [
        "\n",
        "# Path to external image\n",
        "external_image_path = \"/content/aircraft_data/test_image.jpg\"\n",
        "\n",
        "# Load and preprocess\n",
        "img = image.load_img(external_image_path, target_size=(224, 224))\n",
        "img_array = image.img_to_array(img)\n",
        "img_array = np.expand_dims(img_array, axis=0)\n",
        "img_array = img_array / 255.0\n",
        "\n",
        "# Predict\n",
        "predictions = finetune_model.predict(img_array)\n",
        "top_3_indices = predictions[0].argsort()[-3:][::-1]\n",
        "\n",
        "# Get class labels\n",
        "class_labels = dict((v, k) for k, v in train_generator.class_indices.items())\n",
        "\n",
        "print(\"Top 3 Predicted Aircraft Types (Fine-Tuned):\")\n",
        "for idx in top_3_indices:\n",
        "    print(f\"{class_labels[idx]} → {predictions[0][idx] * 100:.2f}%\")\n",
        "\n",
        "# Show image\n",
        "plt.imshow(img)\n",
        "plt.axis(\"off\")\n",
        "plt.show()"
      ]
    },
    {
      "cell_type": "markdown",
      "metadata": {
        "id": "yZjXWahY39dF"
      },
      "source": [
        "# **Final plane image prediction**"
      ]
    },
    {
      "cell_type": "markdown",
      "metadata": {
        "id": "hOyuWdnG4AGL"
      },
      "source": [
        "**Description:**\n",
        "\n",
        "After uploading, you can choose which trained model you want to use:\n",
        "* CNN model\n",
        "* MobileNetV2 model\n",
        "* Fine-tuned MobileNetV2 model (recommended for best accuracy).\n",
        "\n",
        "After you select the model (just by entering 1, 2, or 3), the model will:\n",
        "Load the image and prepare it for prediction (resize and normalize).\n",
        "Run prediction using the selected model.\n",
        "Get the Top 3 possible aircraft types and show their confidence (how sure the model is).\n",
        "Show the uploaded image and print the Top prediction as a title on the image for easy understanding.\n",
        "\n"
      ]
    },
    {
      "cell_type": "code",
      "execution_count": null,
      "metadata": {
        "id": "bRVFNA-J4YvU"
      },
      "outputs": [],
      "source": [
        "\n",
        "# Dictionary to map model number to model file\n",
        "model_paths = {\n",
        "    \"1\": \"cnn_fighter_jet_model.keras\",                  # CNN Model\n",
        "    \"2\": \"mobilenetv2_fighter_jet_model.keras\",          # MobileNetV2 (Standard)\n",
        "    \"3\": \"mobilenetv2_finetuned_model_final.keras\"       # MobileNetV2 (Fine-Tuned)\n",
        "}\n",
        "\n",
        "# Select the model\n",
        "print(\"Choose the model to use:\")\n",
        "print(\"1 - CNN Model\")\n",
        "print(\"2 - MobileNetV2 Model\")\n",
        "print(\"3 - Fine-Tuned MobileNetV2 Model\")\n",
        "model_choice = input(\"Enter model number (1 / 2 / 3): \").strip()\n",
        "\n",
        "# Check if model choice is valid\n",
        "if model_choice not in model_paths:\n",
        "    print(\" Invalid model choice. Please select 1, 2, or 3.\")\n",
        "else:\n",
        "    # Load the selected model\n",
        "    selected_model_path = model_paths[model_choice]\n",
        "    model = load_model(selected_model_path)\n",
        "    print(f\" Loaded model: {selected_model_path}\")\n",
        "\n",
        "    # Upload image\n",
        "    from google.colab import files\n",
        "    uploaded = files.upload()\n",
        "\n",
        "    # Get uploaded file path\n",
        "    image_path = next(iter(uploaded))\n",
        "\n",
        "    # Load and preprocess the image\n",
        "    img = image.load_img(image_path, target_size=(224, 224))\n",
        "    img_array = image.img_to_array(img)\n",
        "    img_array = np.expand_dims(img_array, axis=0)\n",
        "    img_array = img_array / 255.0  # Normalize\n",
        "\n",
        "    # Predict\n",
        "    predictions = model.predict(img_array)\n",
        "    top_3_indices = predictions[0].argsort()[-3:][::-1]\n",
        "\n",
        "    # Get class labels\n",
        "    class_labels = dict((v, k) for k, v in train_generator.class_indices.items())\n",
        "\n",
        "    # Display results\n",
        "    print(\"\\nTop 3 Predicted Aircraft Types:\")\n",
        "    for idx in top_3_indices:\n",
        "        print(f\"{class_labels[idx]} → {predictions[0][idx] * 100:.2f}%\")\n",
        "\n",
        "    # Show the image\n",
        "    plt.imshow(img)\n",
        "    plt.axis(\"off\")\n",
        "    plt.title(\"Predicted Aircraft Top-3 Results\")\n",
        "    plt.show()\n"
      ]
    },
    {
      "cell_type": "markdown",
      "metadata": {
        "id": "l7MpZbNikRTi"
      },
      "source": [
        "# **Compare Between 3 Models (CNN + MobileNetV2 + Fine-Tuned MobileNetV2)**"
      ]
    },
    {
      "cell_type": "markdown",
      "metadata": {
        "id": "4qkj16nMkVJY"
      },
      "source": [
        "**Description:**\n",
        "In this section, I will **load all saved models**, evaluate them using the same validation dataset, and **collect their accuracy and loss** results. To make the comparison clear, I will **display the results in a table** and **visualize them using a bar chart**. This will help me determine **which model performs best** and **which one should be used for final predictions**.\n"
      ]
    },
    {
      "cell_type": "code",
      "execution_count": null,
      "metadata": {
        "id": "8uHWOBYfkWzl"
      },
      "outputs": [],
      "source": [
        "\n",
        "\n",
        "# List of model paths and names\n",
        "models_info = {\n",
        "    \"CNN Model\": \"cnn_fighter_jet_model.keras\",\n",
        "    \"MobileNetV2\": \"mobilenetv2_fighter_jet_model.keras\",\n",
        "    \"Fine-Tuned MobileNetV2\": \"mobilenetv2_finetuned_model_final.keras\"\n",
        "}\n",
        "\n",
        "# To store results\n",
        "results = {}\n",
        "\n",
        "# Evaluate each model\n",
        "for model_name, model_path in models_info.items():\n",
        "    print(f\" Evaluating {model_name}...\")\n",
        "\n",
        "    # Load model\n",
        "    model = load_model(model_path)\n",
        "\n",
        "    # Evaluate\n",
        "    loss, accuracy = model.evaluate(val_generator)\n",
        "\n",
        "    # Store results\n",
        "    results[model_name] = {\n",
        "        \"Accuracy\": accuracy * 100,\n",
        "        \"Loss\": loss\n",
        "    }\n",
        "\n",
        "# Show results\n",
        "print(\"\\n Model Comparison Results:\")\n",
        "for model_name, metrics in results.items():\n",
        "    print(f\"{model_name}: Accuracy = {metrics['Accuracy']:.2f}%, Loss = {metrics['Loss']:.4f}\")\n",
        "\n",
        "# Prepare data for plotting\n",
        "model_names = list(results.keys())\n",
        "accuracies = [metrics[\"Accuracy\"] for metrics in results.values()]\n",
        "losses = [metrics[\"Loss\"] for metrics in results.values()]\n",
        "\n",
        "# Plot accuracy comparison\n",
        "plt.figure(figsize=(10, 5))\n",
        "plt.bar(model_names, accuracies, color=[\"blue\", \"green\", \"orange\"])\n",
        "plt.title(\"Model Accuracy Comparison\")\n",
        "plt.ylabel(\"Accuracy (%)\")\n",
        "plt.ylim(0, 100)\n",
        "plt.show()\n",
        "\n",
        "# Plot loss comparison\n",
        "plt.figure(figsize=(10, 5))\n",
        "plt.bar(model_names, losses, color=[\"blue\", \"green\", \"orange\"])\n",
        "plt.title(\"Model Loss Comparison\")\n",
        "plt.ylabel(\"Loss\")\n",
        "plt.show()\n"
      ]
    }
  ],
  "metadata": {
    "accelerator": "GPU",
    "colab": {
      "collapsed_sections": [
        "SMiX4aKdg3dG",
        "WkGezbWQjj-w",
        "kCC_b_Yck1nA",
        "vfTsm4x6mf0i",
        "qMZZHDLoOfws",
        "7WD8KOS3WcnU",
        "444lNbnKNTT7"
      ],
      "gpuType": "T4",
      "provenance": []
    },
    "kernelspec": {
      "display_name": "Python 3",
      "name": "python3"
    },
    "language_info": {
      "name": "python"
    }
  },
  "nbformat": 4,
  "nbformat_minor": 0
}
